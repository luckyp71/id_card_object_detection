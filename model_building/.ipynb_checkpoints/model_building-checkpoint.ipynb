{
 "cells": [
  {
   "cell_type": "markdown",
   "id": "57c87124-c674-44d0-be1c-14ce696a3fc3",
   "metadata": {},
   "source": [
    "# Object Detection with Detectron2 Framework\n",
    "## Transfer Learning using Faster R-CNN Model (R"
   ]
  },
  {
   "cell_type": "code",
   "execution_count": null,
   "id": "7966f0bb-ae47-4a9c-a6ea-03778376b192",
   "metadata": {},
   "outputs": [],
   "source": [
    "import detectron2\n",
    "\n",
    "from detectron2.utils.logger import setup_logger\n",
    "from detectron2 import model_zoo\n",
    "from detectron2.engine import DefaultPredictor\n",
    "from detectron2.config import get_cfg\n",
    "from detectron2.utils.visualizer import Visualizer\n",
    "from detectron2.data.datasets import register_coco_instances\n",
    "from detectron2.structures import BoxMode\n",
    "from detectron2.data.datasets import register_coco_instances\n",
    "from detectron2.engine import DefaultTrainer\n",
    "from detectron2.data import DatasetCatalog\n",
    "from detectron2.data import MetadataCatalog\n",
    "\n",
    "import torch\n",
    "import numpy as np\n",
    "import json\n",
    "import cv2\n",
    "import matplotlib.pyplot as plt\n",
    "import pickle\n",
    "import os\n",
    "import random\n",
    "\n",
    "import warnings"
   ]
  },
  {
   "cell_type": "code",
   "execution_count": null,
   "id": "0e5f4096-6f76-446c-8b8b-a2b01a8918db",
   "metadata": {},
   "outputs": [],
   "source": [
    "setup_logger()\n",
    "warnings.filterwarnings('ignore')"
   ]
  },
  {
   "cell_type": "code",
   "execution_count": null,
   "id": "e056b4cb-20c6-46d8-a25b-50bcf493478a",
   "metadata": {},
   "outputs": [],
   "source": [
    "# Device agnostic code\n",
    "device= 'cuda' if torch.cuda.is_available() else 'cpu'\n",
    "print(device, torch.cuda.get_device_name())"
   ]
  },
  {
   "cell_type": "markdown",
   "id": "24709444-b6e2-4e29-b931-81cefd61ada4",
   "metadata": {},
   "source": [
    "### User Defined Function"
   ]
  },
  {
   "cell_type": "code",
   "execution_count": null,
   "id": "6d40dfc7-f900-4158-b1ff-85163aad54eb",
   "metadata": {},
   "outputs": [],
   "source": [
    "def visualizeResult(image, output):\n",
    "    v = Visualizer(img[:, :, ::-1], MetadataCatalog.get(cfg.DATASETS.TRAIN[0]),\n",
    "              scale=1.2)\n",
    "    v = v.draw_instance_predictions(output[\"instances\"].to(\"cpu\"))\n",
    "    plt.figure(figsize=(14,10))\n",
    "    plt.imshow(cv2.cvtColor(v.get_image()[:, :, ::-1], cv2.COLOR_BGR2RGB))\n",
    "\n",
    "def get_train_cfg(config_file_path, checkpoint_url, train_dataset_name, test_dataset_name, num_classes, device, output_dir):\n",
    "    cfg = get_cfg()\n",
    "\n",
    "    cfg.merge_from_file(model_zoo.get_config_file(config_file_path))\n",
    "    cfg.MODEL.WEIGHTS = model_zoo.get_checkpoint_url(checkpoint_url)\n",
    "    cfg.DATASETS.TRAIN = (train_dataset_name,)\n",
    "    cfg.DATASETS.TEST = ()\n",
    "\n",
    "    cfg.DATALOADER.NUM_WORKERS = 2\n",
    "\n",
    "    cfg.SOLVER.IMS_PER_BATCH = 4\n",
    "    cfg.SOLVER.BASE_LR = 0.00025\n",
    "    cfg.SOLVER.MAX_ITER = 1500\n",
    "    cfg.SOLVER.STEPS = []\n",
    "\n",
    "    cfg.MODEL.ROI_HEADS.BATCH_SIZE_PER_IMAGE = 128\n",
    "    cfg.MODEL.ROI_HEADS.NUM_CLASSES = num_classes\n",
    "    cfg.MODEL.DEVICE = device\n",
    "    cfg.OUTPUT_DIR = output_dir\n",
    "\n",
    "    return cfg"
   ]
  },
  {
   "cell_type": "markdown",
   "id": "3623271c-45ad-4b3d-8c65-6eefe3496b76",
   "metadata": {},
   "source": [
    "### Get metadata for the COCO dataset"
   ]
  },
  {
   "cell_type": "code",
   "execution_count": null,
   "id": "42f98692-e12f-404f-b072-de47e1b61f02",
   "metadata": {},
   "outputs": [],
   "source": [
    "metadata = MetadataCatalog.get(\"coco_2017_val\")"
   ]
  },
  {
   "cell_type": "code",
   "execution_count": null,
   "id": "35f7e2ff-58aa-486f-94cb-7c302cfe5bf4",
   "metadata": {},
   "outputs": [],
   "source": [
    "class_names = metadata.get(\"thing_classes\")"
   ]
  },
  {
   "cell_type": "code",
   "execution_count": null,
   "id": "0fc22cfe-5a0d-4ee1-9f58-76cdcf820804",
   "metadata": {},
   "outputs": [],
   "source": [
    "print(len(class_names))\n",
    "print(class_names)"
   ]
  },
  {
   "cell_type": "code",
   "execution_count": null,
   "id": "7d6fcce4-1d09-43b9-8915-1ac54843df0a",
   "metadata": {},
   "outputs": [],
   "source": [
    "cfg = get_cfg()\n",
    "cfg.merge_from_file(model_zoo.get_config_file(\"COCO-Detection/faster_rcnn_R_101_FPN_3x.yaml\"))\n",
    "cfg.MODEL.ROI_HEADS.SCORE_THRESH_TEST = 0.5 # set threshold for this model\n",
    "cfg.MODEL.WEIGHTS = model_zoo.get_checkpoint_url(\"COCO-Detection/faster_rcnn_R_101_FPN_3x.yaml\")"
   ]
  },
  {
   "cell_type": "markdown",
   "id": "e38aedb4-def2-4726-ae88-c7d496c5fc01",
   "metadata": {},
   "source": [
    "#### Cerate Predictor"
   ]
  },
  {
   "cell_type": "code",
   "execution_count": null,
   "id": "915da2de-1444-43a7-a537-f27a1196a6e9",
   "metadata": {},
   "outputs": [],
   "source": [
    "predictor = DefaultPredictor(cfg)"
   ]
  },
  {
   "cell_type": "markdown",
   "id": "1558602d-65ab-4b19-af27-17a4840b7351",
   "metadata": {},
   "source": [
    "#### Make Prediction"
   ]
  },
  {
   "cell_type": "code",
   "execution_count": null,
   "id": "aa7db5d5-0e50-49cb-963c-e004b79808f8",
   "metadata": {},
   "outputs": [],
   "source": [
    "img = cv2.imread('./data/sample_data/1.jpg')"
   ]
  },
  {
   "cell_type": "code",
   "execution_count": null,
   "id": "7e360b0b-b5ba-47ac-a28a-625bdb43d2b8",
   "metadata": {},
   "outputs": [],
   "source": [
    "output = predictor(img)"
   ]
  },
  {
   "cell_type": "markdown",
   "id": "1e5dc188-319f-4ea8-9ce8-d671ea214136",
   "metadata": {},
   "source": [
    "#### Visualize The Result"
   ]
  },
  {
   "cell_type": "code",
   "execution_count": null,
   "id": "79740fe8-ebe3-462f-b133-95007efe908e",
   "metadata": {},
   "outputs": [],
   "source": [
    "visualizeResult(img, output)"
   ]
  },
  {
   "cell_type": "code",
   "execution_count": null,
   "id": "91de83cb-7266-43b0-b78b-eaf231046579",
   "metadata": {},
   "outputs": [],
   "source": [
    "# Get the predicted class labels for each instance in the image\n",
    "predicted_classes = output[\"instances\"].pred_classes.tolist()\n",
    "\n",
    "# Map the predicted class labels to class names\n",
    "predicted_class_names = [class_names[class_id] for class_id in predicted_classes]"
   ]
  },
  {
   "cell_type": "code",
   "execution_count": null,
   "id": "7a9dd275-55de-472c-9d3a-f7aaa308835f",
   "metadata": {},
   "outputs": [],
   "source": [
    "# Print the predicted class names\n",
    "print(\"Predicted Class Names:\", predicted_class_names)\n",
    "print(output[\"instances\"].pred_boxes)"
   ]
  },
  {
   "cell_type": "markdown",
   "id": "9d4cb2c9-7a13-41fc-8aef-b077322b7246",
   "metadata": {},
   "source": [
    "### Custom Dataset"
   ]
  },
  {
   "cell_type": "markdown",
   "id": "01085c25-9763-4b33-90ea-c3a0ae2d8aa8",
   "metadata": {},
   "source": [
    "- The ID Card used is Indonesian ID Card\n",
    "- There are two annotations on the ID Card images i.e. ID Card and ID Card Hologram"
   ]
  },
  {
   "cell_type": "code",
   "execution_count": null,
   "id": "8c3f6f4c-9636-4c79-b497-7416f92e560a",
   "metadata": {},
   "outputs": [],
   "source": [
    "dataPath = \"./data/\""
   ]
  },
  {
   "cell_type": "markdown",
   "id": "27ff5d58-109a-407b-8a34-d0050f1ba079",
   "metadata": {},
   "source": [
    "#### Register ID Card data (COCO format) for both train and validation data"
   ]
  },
  {
   "cell_type": "code",
   "execution_count": null,
   "id": "7e34ae5e-9905-4c71-8e0a-e6f313656ba4",
   "metadata": {},
   "outputs": [],
   "source": [
    "register_coco_instances(\"id_card_train_data\", {}, \"./train.json\", \"./data/all_data\")"
   ]
  },
  {
   "cell_type": "code",
   "execution_count": null,
   "id": "cac5b239-5898-4778-969a-ffa664c23573",
   "metadata": {},
   "outputs": [],
   "source": [
    "register_coco_instances(\"id_card_val_data\", {}, \"./val.json\", \"./data/all_data\")"
   ]
  },
  {
   "cell_type": "code",
   "execution_count": null,
   "id": "23024a42-656a-4a8a-a1cc-31715ba00393",
   "metadata": {},
   "outputs": [],
   "source": [
    "id_card_train_metadata = MetadataCatalog.get(\"id_card_train_data\")\n",
    "dataset_dicts = DatasetCatalog.get(\"id_card_train_data\")"
   ]
  },
  {
   "cell_type": "markdown",
   "id": "4d12f48c-2025-451b-bf42-3a86761f36c8",
   "metadata": {},
   "source": [
    "#### Observe Our Images Data Including Their Annotations"
   ]
  },
  {
   "cell_type": "code",
   "execution_count": null,
   "id": "bc66dba9-07a8-4d8d-ad1e-48545a069107",
   "metadata": {},
   "outputs": [],
   "source": [
    "for d in random.sample(dataset_dicts, 3):\n",
    "    img = cv2.imread(d[\"file_name\"])\n",
    "    visualizer = Visualizer(img[:, :, ::-1], metadata=id_card_train_metadata, scale=0.5)\n",
    "    vis = visualizer.draw_dataset_dict(d)\n",
    "    plt.imshow(cv2.cvtColor(vis.get_image()[:, :, ::-1], cv2.COLOR_BGR2RGB))\n",
    "    plt.show()"
   ]
  },
  {
   "cell_type": "markdown",
   "id": "4ddaec85-1f57-4424-8dc3-56e794d93052",
   "metadata": {},
   "source": [
    "#### Model Training on Custom Dataset"
   ]
  },
  {
   "cell_type": "code",
   "execution_count": null,
   "id": "c02e2998-b0f3-4ede-bbd5-6cae6ea80c41",
   "metadata": {},
   "outputs": [],
   "source": [
    "cfg = get_train_cfg(\"COCO-Detection/faster_rcnn_R_101_FPN_3x.yaml\", \n",
    "                    \"COCO-Detection/faster_rcnn_R_101_FPN_3x.yaml\", \n",
    "                    \"id_card_train_data\", \"id_card_val_data\", 2, device, \n",
    "                    \"./model\")\n",
    "\n",
    "with open(\"./model/OD_cfg.pickle\", 'wb') as f:\n",
    "    pickle.dump(cfg, f, protocol=pickle.HIGHEST_PROTOCOL)\n",
    "\n",
    "os.makedirs(cfg.OUTPUT_DIR, exist_ok=True)\n",
    "\n",
    "trainer = DefaultTrainer(cfg)\n",
    "trainer.resume_or_load(resume=False)\n",
    "\n",
    "trainer.train()"
   ]
  },
  {
   "cell_type": "markdown",
   "id": "8bc9b50a-c628-408a-805a-fc64f5428465",
   "metadata": {},
   "source": [
    "The warning messages above just tell us that the model setup is different from the pre-trained model. It does not affect the model performance during training, it's expected behaviour."
   ]
  },
  {
   "cell_type": "code",
   "execution_count": null,
   "id": "1b511201-18e9-496f-949f-6d680e3517bc",
   "metadata": {},
   "outputs": [],
   "source": [
    "# Look at training curves in tensorboard:\n",
    "%load_ext tensorboard\n",
    "%tensorboard --logdir ./model"
   ]
  },
  {
   "cell_type": "markdown",
   "id": "4479368a-4289-4fba-ad9d-50dae4e584e8",
   "metadata": {},
   "source": [
    "### Inference & Evaluation"
   ]
  },
  {
   "cell_type": "code",
   "execution_count": null,
   "id": "3e36905c-42f3-426e-b2b7-c4882009de2d",
   "metadata": {},
   "outputs": [],
   "source": [
    "# Load the model and setup the threshold\n",
    "cfg.MODEL.WEIGHTS = os.path.join(cfg.OUTPUT_DIR, \"model_final.pth\")\n",
    "cfg.MODEL.ROI_HEADS.SCORE_THRESH_TEST = 0.7   # set threshold\n",
    "predictor = DefaultPredictor(cfg)"
   ]
  },
  {
   "cell_type": "code",
   "execution_count": null,
   "id": "85cd3ba3-9bc9-4c20-8411-6e45c3464b6c",
   "metadata": {},
   "outputs": [],
   "source": [
    "id_card_metadata = MetadataCatalog.get(\"id_card_val_data\")\n",
    "dataset_dicts = DatasetCatalog.get(\"id_card_val_data\")"
   ]
  },
  {
   "cell_type": "code",
   "execution_count": null,
   "id": "b2799b66-363d-4638-b1e4-e15e8f3e3518",
   "metadata": {
    "scrolled": true
   },
   "outputs": [],
   "source": [
    "for d in random.sample(dataset_dicts, 5):\n",
    "    img = cv2.imread(d[\"file_name\"])\n",
    "    output = predictor(img)\n",
    "    visualizeResult(img, output)"
   ]
  },
  {
   "cell_type": "code",
   "execution_count": null,
   "id": "87d89d90-2c49-49f3-a1eb-902fd0bd6eeb",
   "metadata": {},
   "outputs": [],
   "source": []
  },
  {
   "cell_type": "code",
   "execution_count": null,
   "id": "ba21a366-7c5a-4ce5-80ca-f470d86a596a",
   "metadata": {},
   "outputs": [],
   "source": []
  }
 ],
 "metadata": {
  "kernelspec": {
   "display_name": "Python 3 (ipykernel)",
   "language": "python",
   "name": "python3"
  },
  "language_info": {
   "codemirror_mode": {
    "name": "ipython",
    "version": 3
   },
   "file_extension": ".py",
   "mimetype": "text/x-python",
   "name": "python",
   "nbconvert_exporter": "python",
   "pygments_lexer": "ipython3",
   "version": "3.11.7"
  }
 },
 "nbformat": 4,
 "nbformat_minor": 5
}
